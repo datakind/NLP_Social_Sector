{
 "cells": [
  {
   "cell_type": "code",
   "execution_count": 1,
   "metadata": {},
   "outputs": [],
   "source": [
    "# Text summarization demo\n",
    "# if you do not have nltk asset 'punkt' you may get an error asking you to run the following. it should work.\n",
    "#!python -c \"import nltk; nltk.download('punkt')\"\n",
    "from sumy.nlp.tokenizers import Tokenizer\n",
    "from sumy.summarizers.lsa import LsaSummarizer\n",
    "from sumy.parsers.plaintext import PlaintextParser\n",
    "from sumy.summarizers.lex_rank import LexRankSummarizer"
   ]
  },
  {
   "cell_type": "code",
   "execution_count": 2,
   "metadata": {},
   "outputs": [],
   "source": [
    "demo_text = \"[ Approved  by Governor  September\\xa029,\\xa02014. Filed with Secretary of State  September\\xa029,\\xa02014. ] LEGISLATIVE COUNSEL'S DIGEST AB 1733, Quirk-Silva.\\n\\t\\t\\t\\t\\t\\t\\t\\t\\t\\t\\t  Public records: fee waiver. (1)\\xa0Existing law establishes the State Department of Public Health and sets forth its powers and duties, including, but not limited to, the duties as State Registrar relating to the uniform administration of provisions relating to vital records and health statistics. Existing law requires the State Registrar, local registrar, or county recorder to, upon request and payment of the required fee, supply to an applicant a certified copy of the record of a birth, fetal death, death, marriage, or marriage dissolution registered with the official. Existing law authorizes the issuance of certain records without payment of the fee. This bill would, on or after July 1, 2015, require each local registrar or county recorder to issue, without a fee, a certified record of live birth to any\\n\\t\\t\\t person who can verify his or her status as a homeless person or a homeless child or youth, as defined. The bill would require a homeless services provider, as described, that has knowledge of a person’s housing status to verify the person’s status as a homeless person or homeless child or youth for purposes of this provision. The bill would require the State Department of Public Health to develop an affidavit attesting to an applicant’s status as a homeless person or homeless child or youth, and would provide that the affidavit is sufficient verification for purposes of obtaining the certified record of live birth, as specified. By imposing additional duties on county employees, the bill would impose a state-mandated local program. (2)\\xa0Existing law authorizes the Department of Motor Vehicles to issue an identification card to any person attesting to the true full name, correct age, and other identifying data as certified by the applicant for\\n\\t\\t\\t the identification card, and authorizes the assessment of related fees. This bill would, on and after January 1, 2016, require the department to issue, without a fee, an original or replacement identification card to a person who can verify his or her status as a homeless person or homeless child or youth, as defined. The bill would authorize a homeless services provider, as described, that has knowledge of a person’s housing status to verify the person’s status as a homeless person or homeless child or youth for purposes of this provision. The California Constitution requires the state to reimburse local agencies and school districts for certain costs mandated by the state. Statutory provisions establish procedures for making that reimbursement. This bill would provide that, if the Commission on State Mandates determines that the bill contains costs mandated by the\\n\\t\\t\\t state, reimbursement for those costs shall be made pursuant to these statutory provisions. Digest Key Vote: MAJORITY  Appropriation: NO  Fiscal Committee: YES  Local Program: YES  Bill Text The people of the State of California do enact as follows: SECTION 1. Section 103577 is added to the Health and Safety Code, to read: 103577. (a)\\xa0On or after July 1, 2015, each local registrar or county recorder shall, without a fee, issue a certified record of live birth to any person who can verify his or her status as a homeless person or a homeless child or youth. A homeless services provider that has knowledge of a person’s housing status shall verify a person’s status for the purposes of this subdivision. In accordance with all other application requirements as set forth in Section 103526, a request for a certified record of live birth made pursuant to this subdivision shall be made by a homeless person or a homeless child or youth on behalf of themselves, or by any person lawfully entitled to request a certified record of live birth on behalf of a child, if the\\n\\t\\t\\t\\t\\t\\tchild has been verified as a homeless person or a homeless child or youth pursuant to this section. A person applying for a certified record of live birth under this subdivision is entitled to one birth record, per application, for each eligible person verified as a homeless person or a homeless child or youth. For purposes of this subdivision, an affidavit developed pursuant to subdivision (b) shall constitute sufficient verification that a person is a homeless person or a homeless child or youth. A person applying for a certified record of live birth under this subdivision shall not be charged a fee for verification of his or her eligibility. (b)\\xa0The State Department of Public Health shall develop an affidavit attesting to an applicant’s status as a homeless person or homeless child or youth. For purposes of this section,\\n\\t\\t\\t\\t\\t\\tthe affidavit shall not be deemed complete unless it is signed by both the person making a request for a certified record of live birth pursuant to subdivision (a) and a homeless services provider that has knowledge of the applicant’s housing status. (c)\\xa0Notwithstanding the rulemaking provisions of the Administrative Procedure Act (Chapter 3.5 (commencing with Section 11340) of Part 1 of Division 3 of Title 2 of the Government Code), the department may implement and administer this section through an all-county letter or similar instructions from the director or State Registrar without taking regulatory action. (d)\\xa0For the purposes of this section, the following definitions apply: (1)\\xa0A “homeless child or youth” has the same\\n\\t\\t\\t\\t\\t\\tmeaning as the definition of “homeless children and youths” as set forth in the federal McKinney-Vento Homeless Assistance Act (42 U.S.C. Sec. 11301 et seq.). (2)\\xa0A “homeless person” has the same meaning as the definition of that term set forth in the federal McKinney-Vento Homeless Assistance Act (42 U.S.C. Sec. 11301 et seq.). (3)\\xa0A “homeless services provider” includes: (A)\\xa0A governmental or nonprofit agency receiving federal, state, or county or municipal funding to provide services to a “homeless person”\\n\\t\\t\\t\\t\\t\\tor “homeless child or youth,” or that is otherwise sanctioned to provide those services by a local homeless continuum of care organization. (B)\\xa0An attorney licensed to practice law in this state. (C)\\xa0A local educational agency liaison for homeless children and youth designated as such pursuant to Section 11432(g)(1)(J)(ii) of Title 42 of the United States Code, or a school social worker. (D)\\xa0A human services provider or public social services provider funded by the State of California to provide homeless children or youth services, health services, mental or behavioral health services, substance use disorder services, or public assistance or employment services. (E)\\xa0A law enforcement officer designated as a liaison to the homeless population by a local police department or sheriff’s department within the state. SEC. 2. Section 14902 of the Vehicle Code is amended to read: 14902. (a)\\xa0Except as otherwise provided in subdivisions (b), (c), and (d) of this section, subdivision (c) of Section 13002, and subdivision (c) of Section 14900, upon an application for an identification card a fee of twenty dollars ($20), and on and after January 1, 2010, a fee of twenty-six dollars ($26), shall be paid to the department. (b)\\xa0An original or replacement senior citizen identification card issued pursuant to subdivision (b) of Section 13000 shall be issued free of charge. (c)\\xa0The fee for an original or replacement identification card issued to a person who has been determined\\n\\t\\t\\t\\t\\t\\tto have a current income level that meets the eligibility requirements for assistance programs under Chapter 2 (commencing with Section 11200) or Chapter 3 (commencing with Section 12000) of Part 3 of, or Part 5 (commencing with Section 17000) of, or Article 9 (commencing with Section 18900) of Chapter 10 of Part 6 of, or Chapter 10.1 (commencing with Section 18930) or Chapter 10.3 (commencing with Section 18937) of Part 6 of, Division 9 of the Welfare and Institutions Code shall be six dollars ($6). The determination of eligibility under this subdivision shall be made by a governmental or nonprofit entity, which shall be subject to regulations adopted by the department. (d)\\xa0On and after January 1, 2016, a fee shall not be charged for an original or replacement identification card issued to any person who can verify his or her status as\\n\\t\\t\\t\\t\\t\\ta homeless person or homeless child or youth. A homeless services provider that has knowledge of the person’s housing status may verify the person’s status for purposes of this subdivision. A determination of eligibility pursuant to this subdivision shall be subject to regulations adopted by the department. A person applying for an identification card under this subdivision shall not be charged a fee for verification of his or her eligibility. (e)\\xa0All fees received pursuant to this section shall be deposited in the Motor Vehicle Account. (f)\\xa0For purposes of this section, the following definitions apply: (1)\\xa0A “homeless child or youth” has the same meaning as the definition of “homeless children and youths” as set forth in\\n\\t\\t\\t\\t\\t\\tthe federal McKinney-Vento Homeless Assistance Act (42 U.S.C. Sec. 11301 et seq.). (2)\\xa0A “homeless person” has the same meaning as the definition set forth in the federal McKinney-Vento Homeless Assistance Act (42 U.S.C. Sec. 11301 et seq.). (3)\\xa0A “homeless services provider” includes: (A)\\xa0A governmental or nonprofit agency receiving federal, state, or county or municipal funding to provide services to a “homeless person” or “homeless child or youth,” or that is otherwise sanctioned to provide those\\n\\t\\t\\t\\t\\t\\tservices by a local homeless continuum of care organization. (B)\\xa0An attorney licensed to practice law in this state. (C)\\xa0A local educational agency liaison for homeless children and youth designated as such pursuant to Section 11432 (g)(1)(J)(ii) of Title 42 of the United States Code, or a school social worker. (D)\\xa0A human services provider or public social services provider funded by the State of California to provide homeless children or youth services, health services, mental or behavioral health services, substance use disorder services, or public assistance or employment services. (E)\\xa0A law enforcement officer designated as a liaison to the homeless\\n\\t\\t\\t\\t\\t\\tpopulation by a local police department or sheriff’s department within the state. (F)\\xa0Any other homeless services provider that is qualified to verify an individual’s housing status, as determined by the department. SEC. 3. If the Commission on State Mandates determines that this act contains costs mandated by the state, reimbursement to local agencies and school districts for those costs shall be made pursuant to Part 7 (commencing with Section 17500) of Division 4 of Title 2 of the Government Code.    \""
   ]
  },
  {
   "cell_type": "code",
   "execution_count": 7,
   "metadata": {},
   "outputs": [
    {
     "name": "stdout",
     "output_type": "stream",
     "text": [
      "Title: AB-1733 Public records: fee waiver. \n",
      "\n",
      "Summary: An act to add Section 103577 to the Health and Safety Code, and to amend Section 14902 of the Vehicle Code, relating to public records. \n",
      "\n",
      "Full Text: [ Approved  by Governor  September 29, 2014. Filed with Secretary of State  September 29, 2014. ] LEGISLATIVE COUNSEL'S DIGEST AB 1733, Quirk-Silva.\n",
      "\t\t\t\t\t\t\t\t\t\t\t  Public records: fee waiver. (1) Existing law establishes the State Department of Public Health and sets forth its powers and duties, including, but not limited to, the duties as State Registrar relating to the uniform administration of provisions relating to vital records and health statistics. Existing law requires the State Registrar, local registrar, or county recorder to, upon request and payment of the required fee, supply to an applicant a certified copy of the record of a birth, fetal death, death, marriage, or marriage dissolution registered with the official. Existing law authorizes the issuance of certain records without payment of the fee. This bill would, on or after July 1, 2015, require each local registrar or county recorder to issue, without a fee, a certified record of live birth to any\n",
      "\t\t\t person who can verify his or her status as a homeless person or a homeless child or youth, as defined. The bill would require a homeless services provider, as described, that has knowledge of a person’s housing status to verify the person’s status as a homeless person or homeless child or youth for purposes of this provision. The bill would require the State Department of Public Health to develop an affidavit attesting to an applicant’s status as a homeless person or homeless child or youth, and would provide that the affidavit is sufficient verification for purposes of obtaining the certified record of live birth, as specified. By imposing additional duties on county employees, the bill would impose a state-mandated local program. (2) Existing law authorizes the Department of Motor Vehicles to issue an identification card to any person attesting to the true full name, correct age, and other identifying data as certified by the applicant for\n",
      "\t\t\t the identification card, and authorizes the assessment of related fees. This bill would, on and after January 1, 2016, require the department to issue, without a fee, an original or replacement identification card to a person who can verify his or her status as a homeless person or homeless child or youth, as defined. The bill would authorize a homeless services provider, as described, that has knowledge of a person’s housing status to verify the person’s status as a homeless person or homeless child or youth for purposes of this provision. The California Constitution requires the state to reimburse local agencies and school districts for certain costs mandated by the state. Statutory provisions establish procedures for making that reimbursement. This bill would provide that, if the Commission on State Mandates determines that the bill contains costs mandated by the\n",
      "\t\t\t state, reimbursement for those costs shall be made pursuant to these statutory provisions. Digest Key Vote: MAJORITY  Appropriation: NO  Fiscal Committee: YES  Local Program: YES  Bill Text The people of the State of California do enact as follows: SECTION 1. Section 103577 is added to the Health and Safety Code, to read: 103577. (a) On or after July 1, 2015, each local registrar or county recorder shall, without a fee, issue a certified record of live birth to any person who can verify his or her status as a homeless person or a homeless child or youth. A homeless services provider that has knowledge of a person’s housing status shall verify a person’s status for the purposes of this subdivision. In accordance with all other application requirements as set forth in Section 103526, a request for a certified record of live birth made pursuant to this subdivision shall be made by a homeless person or a homeless child or youth on behalf of themselves, or by any person lawfully entitled to request a certified record of live birth on behalf of a child, if the\n",
      "\t\t\t\t\t\tchild has been verified as a homeless person or a homeless child or youth pursuant to this section. A person applying for a certified record of live birth under this subdivision is entitled to one birth record, per application, for each eligible person verified as a homeless person or a homeless child or youth. For purposes of this subdivision, an affidavit developed pursuant to subdivision (b) shall constitute sufficient verification that a person is a homeless person or a homeless child or youth. A person applying for a certified record of live birth under this subdivision shall not be charged a fee for verification of his or her eligibility. (b) The State Department of Public Health shall develop an affidavit attesting to an applicant’s status as a homeless person or homeless child or youth. For purposes of this section,\n",
      "\t\t\t\t\t\tthe affidavit shall not be deemed complete unless it is signed by both the person making a request for a certified record of live birth pursuant to subdivision (a) and a homeless services provider that has knowledge of the applicant’s housing status. (c) Notwithstanding the rulemaking provisions of the Administrative Procedure Act (Chapter 3.5 (commencing with Section 11340) of Part 1 of Division 3 of Title 2 of the Government Code), the department may implement and administer this section through an all-county letter or similar instructions from the director or State Registrar without taking regulatory action. (d) For the purposes of this section, the following definitions apply: (1) A “homeless child or youth” has the same\n",
      "\t\t\t\t\t\tmeaning as the definition of “homeless children and youths” as set forth in the federal McKinney-Vento Homeless Assistance Act (42 U.S.C. Sec. 11301 et seq.). (2) A “homeless person” has the same meaning as the definition of that term set forth in the federal McKinney-Vento Homeless Assistance Act (42 U.S.C. Sec. 11301 et seq.). (3) A “homeless services provider” includes: (A) A governmental or nonprofit agency receiving federal, state, or county or municipal funding to provide services to a “homeless person”\n",
      "\t\t\t\t\t\tor “homeless child or youth,” or that is otherwise sanctioned to provide those services by a local homeless continuum of care organization. (B) An attorney licensed to practice law in this state. (C) A local educational agency liaison for homeless children and youth designated as such pursuant to Section 11432(g)(1)(J)(ii) of Title 42 of the United States Code, or a school social worker. (D) A human services provider or public social services provider funded by the State of California to provide homeless children or youth services, health services, mental or behavioral health services, substance use disorder services, or public assistance or employment services. (E) A law enforcement officer designated as a liaison to the homeless population by a local police department or sheriff’s department within the state. SEC. 2. Section 14902 of the Vehicle Code is amended to read: 14902. (a) Except as otherwise provided in subdivisions (b), (c), and (d) of this section, subdivision (c) of Section 13002, and subdivision (c) of Section 14900, upon an application for an identification card a fee of twenty dollars ($20), and on and after January 1, 2010, a fee of twenty-six dollars ($26), shall be paid to the department. (b) An original or replacement senior citizen identification card issued pursuant to subdivision (b) of Section 13000 shall be issued free of charge. (c) The fee for an original or replacement identification card issued to a person who has been determined\n",
      "\t\t\t\t\t\tto have a current income level that meets the eligibility requirements for assistance programs under Chapter 2 (commencing with Section 11200) or Chapter 3 (commencing with Section 12000) of Part 3 of, or Part 5 (commencing with Section 17000) of, or Article 9 (commencing with Section 18900) of Chapter 10 of Part 6 of, or Chapter 10.1 (commencing with Section 18930) or Chapter 10.3 (commencing with Section 18937) of Part 6 of, Division 9 of the Welfare and Institutions Code shall be six dollars ($6). The determination of eligibility under this subdivision shall be made by a governmental or nonprofit entity, which shall be subject to regulations adopted by the department. (d) On and after January 1, 2016, a fee shall not be charged for an original or replacement identification card issued to any person who can verify his or her status as\n",
      "\t\t\t\t\t\ta homeless person or homeless child or youth. A homeless services provider that has knowledge of the person’s housing status may verify the person’s status for purposes of this subdivision. A determination of eligibility pursuant to this subdivision shall be subject to regulations adopted by the department. A person applying for an identification card under this subdivision shall not be charged a fee for verification of his or her eligibility. (e) All fees received pursuant to this section shall be deposited in the Motor Vehicle Account. (f) For purposes of this section, the following definitions apply: (1) A “homeless child or youth” has the same meaning as the definition of “homeless children and youths” as set forth in\n",
      "\t\t\t\t\t\tthe federal McKinney-Vento Homeless Assistance Act (42 U.S.C. Sec. 11301 et seq.). (2) A “homeless person” has the same meaning as the definition set forth in the federal McKinney-Vento Homeless Assistance Act (42 U.S.C. Sec. 11301 et seq.). (3) A “homeless services provider” includes: (A) A governmental or nonprofit agency receiving federal, state, or county or municipal funding to provide services to a “homeless person” or “homeless child or youth,” or that is otherwise sanctioned to provide those\n",
      "\t\t\t\t\t\tservices by a local homeless continuum of care organization. (B) An attorney licensed to practice law in this state. (C) A local educational agency liaison for homeless children and youth designated as such pursuant to Section 11432 (g)(1)(J)(ii) of Title 42 of the United States Code, or a school social worker. (D) A human services provider or public social services provider funded by the State of California to provide homeless children or youth services, health services, mental or behavioral health services, substance use disorder services, or public assistance or employment services. (E) A law enforcement officer designated as a liaison to the homeless\n",
      "\t\t\t\t\t\tpopulation by a local police department or sheriff’s department within the state. (F) Any other homeless services provider that is qualified to verify an individual’s housing status, as determined by the department. SEC. 3. If the Commission on State Mandates determines that this act contains costs mandated by the state, reimbursement to local agencies and school districts for those costs shall be made pursuant to Part 7 (commencing with Section 17500) of Division 4 of Title 2 of the Government Code.    \n"
     ]
    }
   ],
   "source": [
    "# The title and summary of the bill with the max tf-idf score term for \"homeless\" do a bad job of communicating \n",
    "# what the bill is. Extractive summarization may be helpful.\n",
    "print('Title:', 'AB-1733 Public records: fee waiver.', '\\n')\n",
    "print('Summary:', 'An act to add Section 103577 to the Health and Safety Code, and to amend Section 14902 of the Vehicle Code, relating to public records.', '\\n' )\n",
    "print('Full Text:', demo_text)"
   ]
  },
  {
   "cell_type": "code",
   "execution_count": 9,
   "metadata": {},
   "outputs": [],
   "source": [
    "# Sumy built in tokenization \n",
    "parser = PlaintextParser.from_string(demo_text, Tokenizer(\"english\"))"
   ]
  },
  {
   "cell_type": "code",
   "execution_count": 10,
   "metadata": {},
   "outputs": [
    {
     "name": "stdout",
     "output_type": "stream",
     "text": [
      "(b) The State Department of Public Health shall develop an affidavit attesting to an applicant’s status as a homeless person or homeless child or youth.\n",
      "(a) Except as otherwise provided in subdivisions (b), (c), and (d) of this section, subdivision (c) of Section 13002, and subdivision (c) of Section 14900, upon an application for an identification card a fee of twenty dollars ($20), and on and after January 1, 2010, a fee of twenty-six dollars ($26), shall be paid to the department.\n"
     ]
    }
   ],
   "source": [
    "# Using LexRank to summarize with top 2 sentences in text\n",
    "for sentence in LexRankSummarizer()(parser.document, 2):\n",
    "    print(sentence)"
   ]
  },
  {
   "cell_type": "code",
   "execution_count": 11,
   "metadata": {},
   "outputs": [
    {
     "name": "stdout",
     "output_type": "stream",
     "text": [
      "(e) All fees received pursuant to this section shall be deposited in the Motor Vehicle Account.\n",
      "(F) Any other homeless services provider that is qualified to verify an individual’s housing status, as determined by the department.\n"
     ]
    }
   ],
   "source": [
    "# Using LSA to summarize with top 3 sentences\n",
    "for sentence in LsaSummarizer()(parser.document,2):\n",
    "    print(sentence)"
   ]
  },
  {
   "cell_type": "code",
   "execution_count": null,
   "metadata": {},
   "outputs": [],
   "source": []
  }
 ],
 "metadata": {
  "kernelspec": {
   "display_name": "Python nlp",
   "language": "python",
   "name": "nlp"
  },
  "language_info": {
   "codemirror_mode": {
    "name": "ipython",
    "version": 3
   },
   "file_extension": ".py",
   "mimetype": "text/x-python",
   "name": "python",
   "nbconvert_exporter": "python",
   "pygments_lexer": "ipython3",
   "version": "3.7.3"
  }
 },
 "nbformat": 4,
 "nbformat_minor": 2
}
