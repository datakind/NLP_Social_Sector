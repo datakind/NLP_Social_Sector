{
 "cells": [
  {
   "cell_type": "code",
   "execution_count": 6,
   "metadata": {},
   "outputs": [],
   "source": [
    "import os\n",
    "import re\n",
    "import wget\n",
    "import PyPDF2\n",
    "import requests\n",
    "import pandas as pd\n",
    "from bs4 import BeautifulSoup\n",
    "from bs4.element import Comment"
   ]
  },
  {
   "cell_type": "markdown",
   "metadata": {},
   "source": [
    "# Summary\n",
    "\n",
    "This notebook walks through scraping bills from the offical gov sites of CA, NY, NY, PA, and SD. It is broken up into an initial text extraction functions and somewhat similar scraping functions for each state. It demonstrates how to use requests, beautiful soup, and regex to find links to pages with bill text from navigation pages. We also show the code to extract raw bill text from either html or pdf."
   ]
  },
  {
   "cell_type": "markdown",
   "metadata": {},
   "source": [
    "## 0. Raw text extraction functions"
   ]
  },
  {
   "cell_type": "code",
   "execution_count": 17,
   "metadata": {},
   "outputs": [],
   "source": [
    "# Basic functions to extract all visible text on a page\n",
    "\n",
    "def tag_visible(element):\n",
    "    if element.parent.name in ['style', 'script', 'head', 'title', 'meta', '[document]']:\n",
    "        return False\n",
    "    if isinstance(element, Comment):\n",
    "        return False\n",
    "    return True\n",
    "\n",
    "\n",
    "def text_from_html(soup):\n",
    "    texts = soup.findAll(text=True)\n",
    "    visible_texts = filter(tag_visible, texts)  \n",
    "    return u\" \".join(t.strip() for t in visible_texts)\n",
    "\n",
    "\n",
    "def get_raw_text(link, pdf=False):\n",
    "    if pdf:\n",
    "        filename = wget.download(link)\n",
    "        pdfReader = PyPDF2.PdfFileReader(filename)\n",
    "        count = pdfReader.numPages\n",
    "        text = \"\"\n",
    "        for i in range(count):\n",
    "            page = pdfReader.getPage(i)\n",
    "            text = text + page.extractText()\n",
    "        os.remove(filename)\n",
    "        return text\n",
    "    else:\n",
    "        r = requests.get(link)\n",
    "        soup = BeautifulSoup(r.text, 'html.parser')\n",
    "        viz_text = text_from_html(soup)\n",
    "        return viz_text"
   ]
  },
  {
   "cell_type": "markdown",
   "metadata": {},
   "source": [
    "## 1. Pennsylvania Scraper\n",
    "\n"
   ]
  },
  {
   "cell_type": "code",
   "execution_count": 126,
   "metadata": {},
   "outputs": [],
   "source": [
    "# Get PA Links\n",
    "\n",
    "def get_pa_links(start_year, end_year):\n",
    "    \"\"\"\n",
    "    Gets links to full text data of bills from PA bill site. \n",
    "\n",
    "    Parameters\n",
    "    ----------\n",
    "    start_year : int\n",
    "        start year of PA bill session\n",
    "\n",
    "    end_year: int\n",
    "        end year of PA bill session \n",
    "\n",
    "    Returns\n",
    "    -------\n",
    "    dataframe of links with assocaited year\n",
    "  \n",
    "    \n",
    "    \"\"\"\n",
    "    base_link = \"https://www.legis.state.pa.us/cfdocs/legis/CL/Public/cl_view_action2.cfm?sess_yr={0}&sess_ind=0&cl_typ=GA&cl_nbr=\"\n",
    "    dfs = []\n",
    "    for year in range(start_year, end_year):\n",
    "        text = requests.get(base_link.format(year))\n",
    "        soup = BeautifulSoup(text.text, 'html.parser')\n",
    "        table = soup.find('table')\n",
    "        table_rows = table.find_all('tr')\n",
    "        res = []\n",
    "        for tr in table_rows:\n",
    "            td = tr.find_all('td')\n",
    "            row = [tr.text.strip() for tr in td if tr.text.strip()]\n",
    "            if row:\n",
    "                res.append(row)\n",
    "        xf = pd.DataFrame(res)\n",
    "        xf['year'] = year\n",
    "        dfs.append(xf)\n",
    "    df = pd.concat(dfs).reset_index(drop=True)\n",
    "    text_link = \"https://www.legis.state.pa.us//WU01/LI/LI/US/HTM/{0}/0/{1}..HTM\"\n",
    "    df['link'] = df.apply(lambda row: text_link.format(row['year'], str(row[0]).zfill(4)), axis=1)\n",
    "    df.columns = ['bill_num', 'date', 'bill_id', 'title', 'year', 'link']\n",
    "    return df"
   ]
  },
  {
   "cell_type": "code",
   "execution_count": 127,
   "metadata": {},
   "outputs": [],
   "source": [
    "pa_test = get_pa_links(2018,2019)"
   ]
  },
  {
   "cell_type": "code",
   "execution_count": 128,
   "metadata": {},
   "outputs": [],
   "source": [
    "pa_test['raw_text'] = pa_test['link'].apply(lambda x: get_raw_text(x))"
   ]
  },
  {
   "cell_type": "code",
   "execution_count": 129,
   "metadata": {},
   "outputs": [
    {
     "data": {
      "text/html": [
       "<div>\n",
       "<style scoped>\n",
       "    .dataframe tbody tr th:only-of-type {\n",
       "        vertical-align: middle;\n",
       "    }\n",
       "\n",
       "    .dataframe tbody tr th {\n",
       "        vertical-align: top;\n",
       "    }\n",
       "\n",
       "    .dataframe thead th {\n",
       "        text-align: right;\n",
       "    }\n",
       "</style>\n",
       "<table border=\"1\" class=\"dataframe\">\n",
       "  <thead>\n",
       "    <tr style=\"text-align: right;\">\n",
       "      <th></th>\n",
       "      <th>bill_num</th>\n",
       "      <th>date</th>\n",
       "      <th>bill_id</th>\n",
       "      <th>title</th>\n",
       "      <th>year</th>\n",
       "      <th>link</th>\n",
       "      <th>raw_text</th>\n",
       "    </tr>\n",
       "  </thead>\n",
       "  <tbody>\n",
       "    <tr>\n",
       "      <th>0</th>\n",
       "      <td>1</td>\n",
       "      <td>Feb 1</td>\n",
       "      <td>HB 1608\\nAddBillSummaryTooltip('#Bill_1','2017...</td>\n",
       "      <td>Trooper Landon E. Weaver Memorial Bridge - des...</td>\n",
       "      <td>2018</td>\n",
       "      <td>https://www.legis.state.pa.us//WU01/LI/LI/US/H...</td>\n",
       "      <td>TROOPER LANDON E. WEAVER MEMORIAL BRIDG...</td>\n",
       "    </tr>\n",
       "    <tr>\n",
       "      <th>1</th>\n",
       "      <td>2</td>\n",
       "      <td>Feb 14</td>\n",
       "      <td>HB 1175\\nAddBillSummaryTooltip('#Bill_2','2017...</td>\n",
       "      <td>Public Officers (65 Pa.C.S.) - registration, r...</td>\n",
       "      <td>2018</td>\n",
       "      <td>https://www.legis.state.pa.us//WU01/LI/LI/US/H...</td>\n",
       "      <td>PUBLIC OFFICERS (65 PA.C.S.) - REGISTRA...</td>\n",
       "    </tr>\n",
       "    <tr>\n",
       "      <th>2</th>\n",
       "      <td>3</td>\n",
       "      <td>Feb 15</td>\n",
       "      <td>HB 359\\nAddBillSummaryTooltip('#Bill_3','2017'...</td>\n",
       "      <td>Game and Wildlife Code (34 Pa.C.S.) - powers a...</td>\n",
       "      <td>2018</td>\n",
       "      <td>https://www.legis.state.pa.us//WU01/LI/LI/US/H...</td>\n",
       "      <td>GAME AND WILDLIFE CODE (34 PA.C.S.) - P...</td>\n",
       "    </tr>\n",
       "    <tr>\n",
       "      <th>3</th>\n",
       "      <td>4</td>\n",
       "      <td>Feb 15</td>\n",
       "      <td>HB 1602\\nAddBillSummaryTooltip('#Bill_4','2017...</td>\n",
       "      <td>Multiple designations in multiple counties - d...</td>\n",
       "      <td>2018</td>\n",
       "      <td>https://www.legis.state.pa.us//WU01/LI/LI/US/H...</td>\n",
       "      <td>MULTIPLE DESIGNATIONS IN MULTIPLE COUNT...</td>\n",
       "    </tr>\n",
       "    <tr>\n",
       "      <th>4</th>\n",
       "      <td>5</td>\n",
       "      <td>Feb 15</td>\n",
       "      <td>HB 1653\\nAddBillSummaryTooltip('#Bill_5','2017...</td>\n",
       "      <td>Higher Education Scholarship Law - eligibility...</td>\n",
       "      <td>2018</td>\n",
       "      <td>https://www.legis.state.pa.us//WU01/LI/LI/US/H...</td>\n",
       "      <td>HIGHER EDUCATION SCHOLARSHIP LAW - ELIG...</td>\n",
       "    </tr>\n",
       "  </tbody>\n",
       "</table>\n",
       "</div>"
      ],
      "text/plain": [
       "  bill_num    date                                            bill_id  \\\n",
       "0        1   Feb 1  HB 1608\\nAddBillSummaryTooltip('#Bill_1','2017...   \n",
       "1        2  Feb 14  HB 1175\\nAddBillSummaryTooltip('#Bill_2','2017...   \n",
       "2        3  Feb 15  HB 359\\nAddBillSummaryTooltip('#Bill_3','2017'...   \n",
       "3        4  Feb 15  HB 1602\\nAddBillSummaryTooltip('#Bill_4','2017...   \n",
       "4        5  Feb 15  HB 1653\\nAddBillSummaryTooltip('#Bill_5','2017...   \n",
       "\n",
       "                                               title  year  \\\n",
       "0  Trooper Landon E. Weaver Memorial Bridge - des...  2018   \n",
       "1  Public Officers (65 Pa.C.S.) - registration, r...  2018   \n",
       "2  Game and Wildlife Code (34 Pa.C.S.) - powers a...  2018   \n",
       "3  Multiple designations in multiple counties - d...  2018   \n",
       "4  Higher Education Scholarship Law - eligibility...  2018   \n",
       "\n",
       "                                                link  \\\n",
       "0  https://www.legis.state.pa.us//WU01/LI/LI/US/H...   \n",
       "1  https://www.legis.state.pa.us//WU01/LI/LI/US/H...   \n",
       "2  https://www.legis.state.pa.us//WU01/LI/LI/US/H...   \n",
       "3  https://www.legis.state.pa.us//WU01/LI/LI/US/H...   \n",
       "4  https://www.legis.state.pa.us//WU01/LI/LI/US/H...   \n",
       "\n",
       "                                            raw_text  \n",
       "0         TROOPER LANDON E. WEAVER MEMORIAL BRIDG...  \n",
       "1         PUBLIC OFFICERS (65 PA.C.S.) - REGISTRA...  \n",
       "2         GAME AND WILDLIFE CODE (34 PA.C.S.) - P...  \n",
       "3         MULTIPLE DESIGNATIONS IN MULTIPLE COUNT...  \n",
       "4         HIGHER EDUCATION SCHOLARSHIP LAW - ELIG...  "
      ]
     },
     "execution_count": 129,
     "metadata": {},
     "output_type": "execute_result"
    }
   ],
   "source": [
    "pa_test.head()"
   ]
  },
  {
   "cell_type": "code",
   "execution_count": 130,
   "metadata": {},
   "outputs": [
    {
     "data": {
      "text/plain": [
       "\"       TROOPER LANDON E. WEAVER MEMORIAL BRIDGE - DESIGNATION       Act of Feb. 1, 2018,\\n                  P.L. 1,\\n                  No. 1  Cl. 87    20180001ua  An Act    Designating the bridge carrying U.S. Route 22 over the Juniata River, Norfolk Southern\\n            Corporation rail tracks and State Route 1010 (Penn Street) in Smithfield and Henderson\\n            Townships, Huntingdon County, as the Trooper Landon E. Weaver Memorial Bridge.    The General Assembly of the Commonwealth of Pennsylvania hereby enacts as follows:    20180001u1s  Section 1. \\xa0Trooper Landon E. Weaver Memorial Bridge.  (a) \\xa0Findings.--The General Assembly finds and declares as follows:  (1) \\xa0Trooper Landon E. Weaver was born November 11, 1993, in Altoona, Blair County, son\\n            of Eric E. and Christine L. Weaver.  (2) \\xa0Trooper Weaver, who grew up in rural Blair County, lived with his wife Macy Weaver\\n            in Martinsburg.  (3) \\xa0Trooper Weaver was a 2012 graduate of Central High School in Martinsburg.  (4) \\xa0Prior to his 2015 induction into the Pennsylvania State Police Academy, Trooper Weaver\\n            was a Dean's List student pursuing an undergraduate degree in criminology at Indiana\\n            University of Pennsylvania.  (5) \\xa0Trooper Weaver attended Zion Lutheran Church in Williamsburg.  (6) \\xa0Trooper Weaver and his wife, who met as Spring Cove Middle School students, were married\\n            at Zion Lutheran Church on June 4, 2016.  (7) \\xa0On June 17, 2016, Trooper Weaver graduated from the Pennsylvania State Police Academy.  (8) \\xa0Trooper Weaver applied a strong sense of focus and rigor in protecting the safety\\n            and security of others and bravely accepted the attendant risks.  (9) \\xa0Trooper Weaver of Troop G, Huntingdon Barracks, was killed in the line of duty on\\n            December 30, 2016, in Juniata Township, Huntingdon County, at 23 years of age.  (b) \\xa0Designation.--The bridge carrying U.S. Route 22 over the Juniata River, Norfolk Southern\\n            Corporation rail tracks and State Route 1010 (Penn Street) in Smithfield and Henderson\\n            Townships, Huntingdon County, is hereby designated as the Trooper Landon E. Weaver\\n            Memorial Bridge.  (c) \\xa0Signs.--The Department of Transportation shall erect and maintain appropriate signs\\n            displaying the name of the bridge to traffic in both directions on the bridge.  20180001u2s  Section 2. \\xa0Effective date.  This act shall take effect in 60 days.   \""
      ]
     },
     "execution_count": 130,
     "metadata": {},
     "output_type": "execute_result"
    }
   ],
   "source": [
    "pa_test['raw_text'][0]"
   ]
  },
  {
   "cell_type": "markdown",
   "metadata": {},
   "source": [
    "## 2. South Dakota Scraper"
   ]
  },
  {
   "cell_type": "code",
   "execution_count": 132,
   "metadata": {},
   "outputs": [],
   "source": [
    "# Get SD Links\n",
    "\n",
    "def get_sd_links(start_year, end_year):\n",
    "    \"\"\"\n",
    "    Gets links to full text data of bills from SD bill site. \n",
    "\n",
    "    Parameters\n",
    "    ----------\n",
    "    start_year : int\n",
    "        start year of SD bill session\n",
    "\n",
    "    end_year: int\n",
    "        end year of SD bill session \n",
    "\n",
    "    Returns\n",
    "    -------\n",
    "    dataframe of links with assocaited year\n",
    "    \n",
    "    \"\"\"\n",
    "    base_link = \"https://sdlegislature.gov/docs/legsession/{0}/Bills/{1}{2}ENR.pdf\"\n",
    "    dfs = []\n",
    "\n",
    "    for year in range(start_year, end_year):\n",
    "        r = requests.get(\"https://sdlegislature.gov/Legislative_Session/Bill_Reports/default.aspx?Session={0}\".format(year))\n",
    "        soup = BeautifulSoup(r.text, 'html.parser')\n",
    "        for a in soup.find_all(attrs={'data-title':'Bill'}): \n",
    "            dfs.append([year, a.text[0:2] + a['id'],\n",
    "                              base_link.format(year, a.text[0:2], a['id']\n",
    "                              )])\n",
    "    df = pd.DataFrame(dfs)\n",
    "    df.columns = ['year', 'bill_id', 'link']\n",
    "    return df"
   ]
  },
  {
   "cell_type": "code",
   "execution_count": 133,
   "metadata": {},
   "outputs": [],
   "source": [
    "sd_test = get_sd_links(2018,2019)"
   ]
  },
  {
   "cell_type": "code",
   "execution_count": 134,
   "metadata": {},
   "outputs": [],
   "source": [
    "sd_test['raw_text'] = sd_test['link'].apply(lambda x: get_raw_text(x,pdf=True))"
   ]
  },
  {
   "cell_type": "code",
   "execution_count": 135,
   "metadata": {},
   "outputs": [
    {
     "data": {
      "text/html": [
       "<div>\n",
       "<style scoped>\n",
       "    .dataframe tbody tr th:only-of-type {\n",
       "        vertical-align: middle;\n",
       "    }\n",
       "\n",
       "    .dataframe tbody tr th {\n",
       "        vertical-align: top;\n",
       "    }\n",
       "\n",
       "    .dataframe thead th {\n",
       "        text-align: right;\n",
       "    }\n",
       "</style>\n",
       "<table border=\"1\" class=\"dataframe\">\n",
       "  <thead>\n",
       "    <tr style=\"text-align: right;\">\n",
       "      <th></th>\n",
       "      <th>year</th>\n",
       "      <th>bill_id</th>\n",
       "      <th>link</th>\n",
       "      <th>raw_text</th>\n",
       "    </tr>\n",
       "  </thead>\n",
       "  <tbody>\n",
       "    <tr>\n",
       "      <th>0</th>\n",
       "      <td>2018</td>\n",
       "      <td>HB1002</td>\n",
       "      <td>https://sdlegislature.gov/docs/legsession/2018...</td>\n",
       "      <td>AN ACT\\nENTITLED, An Act to revise \\ncertain p...</td>\n",
       "    </tr>\n",
       "    <tr>\n",
       "      <th>1</th>\n",
       "      <td>2018</td>\n",
       "      <td>HB1003</td>\n",
       "      <td>https://sdlegislature.gov/docs/legsession/2018...</td>\n",
       "      <td>AN ACT\\nENTITLED, An Act to revise certain pro...</td>\n",
       "    </tr>\n",
       "    <tr>\n",
       "      <th>2</th>\n",
       "      <td>2018</td>\n",
       "      <td>HB1004</td>\n",
       "      <td>https://sdlegislature.gov/docs/legsession/2018...</td>\n",
       "      <td>AN ACT\\nENTITLED, An Act to revise certain pro...</td>\n",
       "    </tr>\n",
       "    <tr>\n",
       "      <th>3</th>\n",
       "      <td>2018</td>\n",
       "      <td>HB1005</td>\n",
       "      <td>https://sdlegislature.gov/docs/legsession/2018...</td>\n",
       "      <td>AN ACT\\nENTITLED, An Act to revise certain req...</td>\n",
       "    </tr>\n",
       "    <tr>\n",
       "      <th>4</th>\n",
       "      <td>2018</td>\n",
       "      <td>HB1006</td>\n",
       "      <td>https://sdlegislature.gov/docs/legsession/2018...</td>\n",
       "      <td>AN ACT\\nENTITLED, An Act to revise the extent ...</td>\n",
       "    </tr>\n",
       "  </tbody>\n",
       "</table>\n",
       "</div>"
      ],
      "text/plain": [
       "   year bill_id                                               link  \\\n",
       "0  2018  HB1002  https://sdlegislature.gov/docs/legsession/2018...   \n",
       "1  2018  HB1003  https://sdlegislature.gov/docs/legsession/2018...   \n",
       "2  2018  HB1004  https://sdlegislature.gov/docs/legsession/2018...   \n",
       "3  2018  HB1005  https://sdlegislature.gov/docs/legsession/2018...   \n",
       "4  2018  HB1006  https://sdlegislature.gov/docs/legsession/2018...   \n",
       "\n",
       "                                            raw_text  \n",
       "0  AN ACT\\nENTITLED, An Act to revise \\ncertain p...  \n",
       "1  AN ACT\\nENTITLED, An Act to revise certain pro...  \n",
       "2  AN ACT\\nENTITLED, An Act to revise certain pro...  \n",
       "3  AN ACT\\nENTITLED, An Act to revise certain req...  \n",
       "4  AN ACT\\nENTITLED, An Act to revise the extent ...  "
      ]
     },
     "execution_count": 135,
     "metadata": {},
     "output_type": "execute_result"
    }
   ],
   "source": [
    "sd_test.head()"
   ]
  },
  {
   "cell_type": "code",
   "execution_count": 137,
   "metadata": {},
   "outputs": [
    {
     "data": {
      "text/plain": [
       "'AN ACT\\nENTITLED, An Act to revise \\ncertain provisions concerning \\ncampaign finance requirements.\\nBE IT ENACTED BY THE LEGISLATURE OF THE STATE OF SOUTH DAKOTA:\\nSection 1. That subdivision (2) of § 12-27-1 be amended to read:(2)\"Ballot question committee,\" a person or entity that raises, collects, or disburses\\ncontributions:\\n(a)As a proponent for the placement of\\n any ballot question on the ballot;\\n(b)As an opponent to the placement of any ballot question on the ballot; or\\n\\n(c)For the adoption or def\\neat of any ballot question.\\nA ballot question committee is not a person or political committee that makes a\\n\\ncontribution to a ballot question committee. A ballot question committee is not an entity\\n\\nthat makes a contribution to a ballot question committee from treasury funds;\\nSection 2. That subdivision (21) of § 12-27-1 be amended to read:(21)\"Treasurer,\" the treasurer is the person who is\\n designated as and has agreed to serve as the\\nperson responsible for each required filing th\\nat a committee is required to make under this\\ntitle;\\nSection 3. That § 12-27-2 be amended to read:\\n12-27-2. A political committee shall have and continually maintain a chair and a treasurer. One\\nperson may serve as chair, candidate, treasurer, \\nor any combination thereof. A treasurer may be\\nresponsible for any monetary pe\\nnalty assessed pursuant to this \\nchapter. No political committee may\\nreceive or make contributions or pay expenses while the office of treasurer is vacant. A violation of\\n\\nthis section is a Class 2 misdem\\neanor. A subsequent offense within\\n a calendar year is a Class 1\\nmisdemeanor.Section 4. That § 12-27-3 be amended to read:HB No. 1002Page 1\\n12-27-3. A statement of organizati\\non shall be filed as follows:(1)The treasurer for a political action committee shall file a statement of organization with\\nthe secretary of state not la\\nter than fifteen days after \\nthe date upon which the committee\\nmade contributions, received c\\nontributions, or paid expenses in excess of five hundred\\ndollars. However, if such activity falls within\\n thirty days of any statewide election, the\\nstatement of organization shall be\\n filed within forty-eight hours;\\n(2)A candidate shall file a statement of \\norganization for a candidate campaign committee\\nwith the secretary of state not later than fifteen days after becoming a candidate pursuant\\n\\nto this chapter; and\\n(3)If the treasurer for a ballot question committee does not file a statement of organization\\npursuant to chapter 2-1, the treasurer shall file a statement of organization with the\\n\\nsecretary of state not later than fifteen days after the date which the committee made\\n\\ncontributions, received contributions, or paid expenses in \\nexcess of five hundred dollars.\\nHowever, if such activity falls\\n within thirty days of any \\nstatewide election, the statementof organization shall be f\\niled within forty-eight hours.\\nAny statement of organization may be filed el\\nectronically pursuant to § 12-27-41. A political\\ncommittee that regularly files a campaign finance disclosure statement with another state or the\\n\\nFederal Election Commission or a re\\nport of contributions and expenditures with the Internal Revenue\\nService is not required to file a \\nstatement of organization. A violati\\non of this section is a Class 2\\nmisdemeanor. A subsequent offense within a calendar year is a Class 1 misdemeanor.\\nSection 5. That § 12-27-14 be amended to read:\\n12-27-14. The sale of any property by a political\\n committee shall be reported in the campaign\\nfinance disclosure statement.\\n A violation of this section is a Class 1 misdemeanor.Section 6. That § 12-27-21.1 be amended to read:HB No. 1002Page 2\\n12-27-21.1. Each statement referred to § 12-27-22 sh\\nall be signed and submitted by the treasurer\\nof the political committee. The statement shall be \\nreceived by the secretary of state and submitted\\nby 5:00 p.m. central time on the following dates:\\n(1)Pre-primary report: fifteen days prior to\\n the primary election, for the reporting period\\ncommencing with the last report submitted up through and including twenty days prior\\n\\nto the election date;\\n(2)Pre-general report: fifteen days prior to\\n the general election, for the reporting period\\ncommencing with the last report submitted up through and including twenty days prior\\n\\nto the election date;\\n(3)Amendments: submitted pursuant to § 12-27-27;\\n\\n(4)Supplemental report: sub\\nmitted pursuant to § 12-27-28;(5)Year-end report: by the last Friday in January each year, for the reporting period\\ncommencing with the last report submitted up through and including December thirty-first\\n\\nof each year; and\\n(6)Termination report: at any time as stated in § 12-27-25.\\n\\nPre-primary, pre-general, ame\\nndments, supplemental, year-end, \\nand termination reports shall\\ncover the contributions and expenditures since th\\ne last report submitted. A\\nll required filings under\\nthis chapter shall be submitted using the forms as provided by the secretary of state.\\nA violation of this section is a Class 2 misdem\\neanor. A subsequent offense within a calendar year\\nis a Class 1 misdemeanor.Section 7. That § 12-27-23 be repealed.\\nSection 8. That § 12-27-24 be amended to read:\\n12-27-24. A campaign finance disc\\nlosure report shall include the following information:\\n(1)The political committee name, \\nmailing address, te\\nlephone number, and, \\nif applicable, e-\\nHB No. 1002Page 3\\nmail address;\\n(2)Name, mailing address, telephone\\n number, and, if applicable, \\nan e-mail address, if any of\\nthe political committee\\'s treasurer;\\n(3)The type of campaign report (pre-primary, pre-general, year-end, amendment, supplement,\\nor termination);\\n(4)For any ballot question committee, the ballot question name and whether the committee\\nsupports or opposes the ballot question;(5)The balance of cash and cas\\nh equivalents on hand at the be\\nginning of the reporting period;\\n(6)The total amount of all contributi\\nons received during the reporting period;\\n(7)The total amount of any donated good or \\nservice received during the reporting period;\\n(8)The total of refunds, \\nrebates, interest, or ot\\nher income not previously identified during the\\nreporting period;\\n(9)The total of expenditures \\nmade during the reporting period;\\n(10)The cash balance on hand as of \\nthe close of the reporting period;\\n(11)All contributions of one hundr\\ned dollars or less shall either\\n be aggregated and reported\\nas a lump sum or the contributions shall be listed individually;\\n(12)The name, mailing address, \\ncity, and state of each person \\nmaking a contribution of more\\nthan one hundred dollars in the aggregate dur\\ning any calendar year and the amount of the\\ncontribution. Any contribution from any \\npolitical committee shall be itemized. Any\\ncontribution from a federal political committee or political committee organized outside\\n\\nthis state shall also include the name and website address of the filing office where\\n\\ncampaign finance disclosure reports are regularly filed for the committee. If any\\n\\ninformation required by the section is \\nunknown to the political committee, the political\\ncommittee may not deposit the contribution;\\nHB No. 1002Page 4\\n(13)Any donated good or service contribution sha\\nll contain the same information as for any\\nmonetary contribution, and sha\\nll also include a description \\nof the donated good or service\\ncontribution;(14)Any monetary or donated \\ngood or service contribution \\nmade by a political committee to\\nany political committee or nonprofit char\\nitable entity shall be itemized;\\n(15)A categorical description a\\nnd amount of any refunds, rebates,\\n interest, sale of property,\\nor other receipts not previously identified during the reporting period;\\n(16)A categorical description and amount of \\nany funds or donations by any entity to its\\npolitical committee for establishing and administering the political committee and for any\\n\\nsolicitation costs of the political committee;\\n(17)Each loan received shall be reporte\\nd in the same manner as a contribution;\\n(18)Each loan repayment shall be reporte\\nd in the same manner as an expenditure;\\n(19)Any expenditure made durin\\ng the reporting period shall be \\ncategorized as disbursements\\nand itemized by expense categories. A misce\\nllaneous expense category is prohibited. Any\\ncontribution made by the political committee that is not in exchange for any item of value\\n\\nor service shall be itemized;\\n(20)The amount of any independent communi\\ncation expenditure from a political committee\\nmade during the reporting period, \\nand lists the name of the \\ncandidate, public office holder,\\nor ballot question related to \\nthe independent communication expenditure and a description\\nof the independent communication expenditure;\\n(21)A ballot question committee shall provide the information contained in any statement\\nprovided pursuant to § 12-27-19; and(22)A certification that the contents of the statement are true and correct signed by the\\ntreasurer of the political committee.\\nHB No. 1002Page 5\\nSection 9. That § 12-27-29 be amended to read:12-27-29. The treasurer of a political committee sh\\nall maintain and preserve detailed and\\naccurate records of the following:\\n(1)Each contribution received by the politi\\ncal committee. Any contribution of one hundred\\ndollars or less shall be noted on the po\\nlitical committee\\'s books a\\nnd a running\\n total of\\neach contributor shall be maintained;\\n(2)Each donated g\\nood or service contribution r\\neceived by the political committee. Upon\\nrequest of the treasurer, any person making \\na donated good or service contribution shall\\nprovide all necessary information to the treas\\nurer, including the value of the contribution;\\n(3)In the case of a ballot question committee, the information required by § 12-27-19 for any\\nentity contribution;\\n(4)Each loan received or made by the political committee;\\n\\n(5)Each refund, rebate, intere\\nst, or other income received by the political committee;\\n(6)All receipts, invoices, bills\\n, canceled checks, or other \\nproofs of payment, with an\\nexplanation of each, for each expenditure;\\n(7)The name and address of an\\ny financial institution where an\\n account or depository for the\\npolitical committee is maintained including the account number.\\nThe treasurer shall maintain and preserve the r\\necords for a period of seven years or three years\\npast the date of filing the termination statement for the election for which the contribution or\\n\\nexpenditure was made, whic\\nhever is earlier. A violation of this\\n section is a Class 2 misdemeanor.\\nAny subsequent offense within a cale\\nndar year is a Class 1 misdemeanor.\\nSection 10. That § 12-27-35 be amended to read:\\n12-27-35. The attorney general sh\\nall investigate and prosecute \\nany violation of the provisions\\nof this chapter relating to a legislative office, statewide office, or political committee and prosecute\\nHB No. 1002Page 6\\nany violation thereof. In lieu of bringing a criminal\\n action, the attorney general may elect to file a\\ncivil action. In a civil action, in addition to other \\nrelief, the court may impos\\ne a civil penalty in an\\namount not to exceed ten thousand dollars for each \\nviolation. Any civil pena\\nlty recovered shall be\\npaid to the state general fund. A civil action brought\\n by the attorney general shall be commenced in\\nHughes County or in the c\\nounty where the person resides.\\nSection 11. That § 12-27-38 be amended to read:\\n12-27-38. If any candidate is prove\\nd in a contest of an election \\nto have violated any provision\\nof this chapter punishable by a felony, the candida\\nte may not be certified fo\\nr election or the candidate\\nshall forfeit his or her office. The office shall be \\ndeclared vacant and shall \\nbe filled in the manner\\nprovided by law for filling vacancies \\noccasioned by death or resignation.\\nSection 12. That § 12-27-48 be amended to read:\\n12-27-48. Any person who knowingly makes a fals\\ne allegation pursuant to § 12-27-47, 23-3-72,\\nor 23-3-73 is guilty of a Class 2 misdemeanor.\\nHB No. 1002Page 7\\n An Act to revise certain provisions concerning campaign finance requirements.\\n==================================================   I certify that the attached Act\\noriginated in the\\nHOUSE as Bill No. 1002\\n____________________________Chief Clerk\\n==================================================____________________________Speaker of the HouseAttest:\\n____________________________Chief Clerk\\n____________________________President of the Senate\\nAttest:\\n____________________________Secretary of the Senate\\nHouse Bill No.   1002  \\nFile No. ____\\nChapter No. ______==================================================   Received at this Executive Office\\nthis _____ day of _____________ ,\\n20____ at ____________ M.By _________________________\\nfor the Governor==================================================     The attached Act is herebyapproved this ________ day of\\n\\n______________ , A.D., 20_______________________________Governor==================================================STATE OF SOUTH DAKOTA,\\nss.Office of the Secretary of State\\n     Filed ____________ , 20___\\nat _________ o\\'clock __ M.\\n____________________________Secretary of State\\nBy _________________________\\nAsst. Secretary of State\\n'"
      ]
     },
     "execution_count": 137,
     "metadata": {},
     "output_type": "execute_result"
    }
   ],
   "source": [
    "sd_test['raw_text'][0]"
   ]
  },
  {
   "cell_type": "markdown",
   "metadata": {},
   "source": [
    "## 3. New Hampshire Scraper"
   ]
  },
  {
   "cell_type": "code",
   "execution_count": 138,
   "metadata": {},
   "outputs": [],
   "source": [
    "# Get nh Links\n",
    "\n",
    "def get_nh_links(start_year, end_year):\n",
    "    \"\"\"\n",
    "    Gets links to full text data of bills from nh bill site. \n",
    "\n",
    "    Parameters\n",
    "    ----------\n",
    "    start_year : int\n",
    "        start year of nh bill session\n",
    "\n",
    "    end_year: int\n",
    "        end year of nh bill session \n",
    "\n",
    "    Returns\n",
    "    -------\n",
    "    dataframe of links with assocaited year\n",
    "    \n",
    "    \"\"\"\n",
    "    base_link = \"http://www.gencourt.state.nh.us{0}\"\n",
    "    dfs = []\n",
    "\n",
    "    for year in range(start_year, end_year):\n",
    "        r = requests.get(\"http://www.gencourt.state.nh.us/legislation/{0}/\".format(year))\n",
    "        soup = BeautifulSoup(r.text, features=\"html\")\n",
    "        bills = soup.find_all('a', {'href': re.compile(r'html')})\n",
    "        for bill in bills:\n",
    "            dfs.append([year, \n",
    "                        bill['href'].split('/')[-1].split('.')[0],\n",
    "                        base_link.format(bill['href'])])\n",
    "    df = pd.DataFrame(dfs)\n",
    "    df.columns = ['year', 'bill_id', 'link']\n",
    "    return df"
   ]
  },
  {
   "cell_type": "code",
   "execution_count": 139,
   "metadata": {},
   "outputs": [],
   "source": [
    "nh_test = get_nh_links(2017,2019)"
   ]
  },
  {
   "cell_type": "code",
   "execution_count": 140,
   "metadata": {},
   "outputs": [],
   "source": [
    "nh_test['raw_text'] = nh_test['link'].apply(lambda x: get_raw_text(x))"
   ]
  },
  {
   "cell_type": "code",
   "execution_count": 141,
   "metadata": {},
   "outputs": [
    {
     "data": {
      "text/html": [
       "<div>\n",
       "<style scoped>\n",
       "    .dataframe tbody tr th:only-of-type {\n",
       "        vertical-align: middle;\n",
       "    }\n",
       "\n",
       "    .dataframe tbody tr th {\n",
       "        vertical-align: top;\n",
       "    }\n",
       "\n",
       "    .dataframe thead th {\n",
       "        text-align: right;\n",
       "    }\n",
       "</style>\n",
       "<table border=\"1\" class=\"dataframe\">\n",
       "  <thead>\n",
       "    <tr style=\"text-align: right;\">\n",
       "      <th></th>\n",
       "      <th>year</th>\n",
       "      <th>bill_id</th>\n",
       "      <th>link</th>\n",
       "      <th>raw_text</th>\n",
       "    </tr>\n",
       "  </thead>\n",
       "  <tbody>\n",
       "    <tr>\n",
       "      <th>0</th>\n",
       "      <td>2017</td>\n",
       "      <td>cacr0001</td>\n",
       "      <td>http://www.gencourt.state.nh.us/legislation/20...</td>\n",
       "      <td>CACR 1 1 - AS INTRODUCED   2017 SESSION 17-...</td>\n",
       "    </tr>\n",
       "    <tr>\n",
       "      <th>1</th>\n",
       "      <td>2017</td>\n",
       "      <td>cacr0002</td>\n",
       "      <td>http://www.gencourt.state.nh.us/legislation/20...</td>\n",
       "      <td>CACR 2 2 - AS INTRODUCED   2017 SESSION 17-...</td>\n",
       "    </tr>\n",
       "    <tr>\n",
       "      <th>2</th>\n",
       "      <td>2017</td>\n",
       "      <td>cacr0003</td>\n",
       "      <td>http://www.gencourt.state.nh.us/legislation/20...</td>\n",
       "      <td>CACR 3 3 - AS INTRODUCED   2017 SESSION 17-...</td>\n",
       "    </tr>\n",
       "    <tr>\n",
       "      <th>3</th>\n",
       "      <td>2017</td>\n",
       "      <td>cacr0004</td>\n",
       "      <td>http://www.gencourt.state.nh.us/legislation/20...</td>\n",
       "      <td>CACR 4 4 - AS INTRODUCED   2017 SESSION 17-...</td>\n",
       "    </tr>\n",
       "    <tr>\n",
       "      <th>4</th>\n",
       "      <td>2017</td>\n",
       "      <td>cacr0005</td>\n",
       "      <td>http://www.gencourt.state.nh.us/legislation/20...</td>\n",
       "      <td>CACR 5 5 - AS INTRODUCED   2017 SESSION 17-...</td>\n",
       "    </tr>\n",
       "  </tbody>\n",
       "</table>\n",
       "</div>"
      ],
      "text/plain": [
       "   year   bill_id                                               link  \\\n",
       "0  2017  cacr0001  http://www.gencourt.state.nh.us/legislation/20...   \n",
       "1  2017  cacr0002  http://www.gencourt.state.nh.us/legislation/20...   \n",
       "2  2017  cacr0003  http://www.gencourt.state.nh.us/legislation/20...   \n",
       "3  2017  cacr0004  http://www.gencourt.state.nh.us/legislation/20...   \n",
       "4  2017  cacr0005  http://www.gencourt.state.nh.us/legislation/20...   \n",
       "\n",
       "                                            raw_text  \n",
       "0     CACR 1 1 - AS INTRODUCED   2017 SESSION 17-...  \n",
       "1     CACR 2 2 - AS INTRODUCED   2017 SESSION 17-...  \n",
       "2     CACR 3 3 - AS INTRODUCED   2017 SESSION 17-...  \n",
       "3     CACR 4 4 - AS INTRODUCED   2017 SESSION 17-...  \n",
       "4     CACR 5 5 - AS INTRODUCED   2017 SESSION 17-...  "
      ]
     },
     "execution_count": 141,
     "metadata": {},
     "output_type": "execute_result"
    }
   ],
   "source": [
    "nh_test.head()"
   ]
  },
  {
   "cell_type": "code",
   "execution_count": 142,
   "metadata": {},
   "outputs": [
    {
     "data": {
      "text/plain": [
       "'   CACR 1 1 - AS INTRODUCED   2017 SESSION 17-0412 06/10  CONSTITUTIONAL AMENDMENT CONCURRENT RESOLUTION 1  RELATING TO:\\tthe general court.  PROVIDING THAT:\\tthe general court shall hold sessions biennially.  SPONSORS:\\tRep. Silber, Belk. 2  COMMITTEE:\\tLegislative Administration  -----------------------------------------------------------------  ANALYSIS   This constitutional amendment concurrent resolution provides that the general court meet biennially.  - - - - - - - - - - - - - - - - - - - - - - - - - - - - - - - - - - - - - - - - - - - - - - - - - - - - - - - - - - - - - - - - - - - - - - - - - - -  Explanation:\\tMatter added to current law appears in bold italics. Matter removed from current law appears [ in brackets and struckthrough. ] Matter which is either (a) all new or (b) repealed and reenacted appears in regular type  17-0412 06/10 STATE OF NEW HAMPSHIRE  In the Year of Our Lord Two Thousand Seventeen  CONCURRENT RESOLUTION PROPOSING CONSITUTIONAL AMENDMENT  RELATING TO:\\tthe general court.  PROVIDING THAT:\\tthe general court shall hold sessions biennially.  Be it Resolved by the House of Representatives, the Senate concurring, \\xa0that the Constitution of New Hampshire be amended as follows:  I. \\xa0That article 3 of the second part of the constitution be amended to read as follows: [Art.] 3. \\xa0[General Court, When to Meet and Dissolve.] The senate and house shall assemble biennially on the first Wednesday of December for organizational purposes [ in even numbered years, ] and , following their organization, they shall assemble [ annually ] on the first Wednesday following the first Tuesday in January, and at such other times as they may judge necessary; and shall dissolve and be dissolved at 12:01 A.M. on the first Wednesday of December [ in even numbered years ] biennially and shall be styled The General Court of New Hampshire. II. \\xa0That the above amendment proposed to the constitution be submitted to the qualified voters of the state at the state general election to be held in November, 2018. III. \\xa0That the selectmen of all towns, cities, wards and places in the state are directed to insert in their warrants for the said 2018 election an article to the following effect: \\xa0To decide whether the amendments of the constitution proposed by the 2017 session of the general court shall be approved. IV. \\xa0That the wording of the question put to the qualified voters shall be: “Are you in favor of amending article 3 of the second part of the constitution to read as follows: [Art.] 3. \\xa0[General Court, When to Meet and Dissolve.] \\xa0The senate and house shall assemble biennially on the first Wednesday of December for organizational purposes and, following their organization, they shall assemble on the first Wednesday following the first Tuesday in January, and at such other times as they may judge necessary; and shall dissolve and be dissolved at 12:01 A.M. on the first Wednesday of December biennially and shall be styled The General Court of New Hampshire.” V. \\xa0That the secretary of state shall print the question to be submitted on a separate ballot or on the same ballot with other constitutional questions. \\xa0The ballot containing the question shall include 2 squares next to the question allowing the voter to vote “Yes” or “No.” \\xa0If no cross is made in either of the squares, the ballot shall not be counted on the question. \\xa0The outside of the ballot shall be the same as the regular official ballot except that the words “Questions Relating to Constitutional Amendments proposed by the 2017 General Court” shall be printed in bold type at the top of the ballot. VI. \\xa0That if the proposed amendment is approved by 2/3 of those voting on the amendment, it becomes effective when the governor proclaims its adoption. '"
      ]
     },
     "execution_count": 142,
     "metadata": {},
     "output_type": "execute_result"
    }
   ],
   "source": [
    "nh_test['raw_text'][0]"
   ]
  },
  {
   "cell_type": "markdown",
   "metadata": {},
   "source": [
    "## 4. California Scraper"
   ]
  },
  {
   "cell_type": "code",
   "execution_count": 85,
   "metadata": {},
   "outputs": [],
   "source": [
    "# Get ca Links\n",
    "\n",
    "def get_ca_links(start_year, end_year):\n",
    "    \"\"\"\n",
    "    Gets links to full text data of bills from ca bill site. \n",
    "\n",
    "    Parameters\n",
    "    ----------\n",
    "    start_year : int\n",
    "        start year of ca bill session\n",
    "\n",
    "    end_year: int\n",
    "        end year of ca bill session \n",
    "\n",
    "    Returns\n",
    "    -------\n",
    "    dataframe of links with assocaited year\n",
    "    \n",
    "    \"\"\"\n",
    "    base_link = \"http://leginfo.legislature.ca.gov\"\n",
    "    dfs = []\n",
    "\n",
    "    for year in range(start_year, end_year):\n",
    "        r = requests.get(\"http://leginfo.legislature.ca.gov/faces/billSearchClient.xhtml?session_year={0}{1}&house=Both&author=All&lawCode=All\".format(year, year+1))\n",
    "        soup = BeautifulSoup(r.text, features=\"html\")\n",
    "        bills = soup.find_all('a', {'href': re.compile(r'bill_id')})\n",
    "        for bill in bills:\n",
    "            dfs.append([year, \n",
    "                        bill['href'].split(str(year+1))[-1],\n",
    "                        base_link + bill['href']])\n",
    "    df = pd.DataFrame(dfs)\n",
    "    df.columns = ['year', 'bill_id', 'link']\n",
    "    return df"
   ]
  },
  {
   "cell_type": "code",
   "execution_count": 89,
   "metadata": {},
   "outputs": [],
   "source": [
    "ca_test = get_ca_links(2017,2020)"
   ]
  },
  {
   "cell_type": "code",
   "execution_count": 102,
   "metadata": {},
   "outputs": [],
   "source": [
    "# CA takes a long time to hit raw text, many links and may block. I suggest introducing a sleep\n",
    "# in the loop if you intend to extract lots of raw text\n",
    "ca_demo = ca_test.sample(10)"
   ]
  },
  {
   "cell_type": "code",
   "execution_count": 103,
   "metadata": {},
   "outputs": [],
   "source": [
    "ca_demo['raw_text'] = ca_demo['link'].apply(lambda x: get_raw_text(x))"
   ]
  },
  {
   "cell_type": "code",
   "execution_count": 106,
   "metadata": {},
   "outputs": [
    {
     "data": {
      "text/html": [
       "<div>\n",
       "<style scoped>\n",
       "    .dataframe tbody tr th:only-of-type {\n",
       "        vertical-align: middle;\n",
       "    }\n",
       "\n",
       "    .dataframe tbody tr th {\n",
       "        vertical-align: top;\n",
       "    }\n",
       "\n",
       "    .dataframe thead th {\n",
       "        text-align: right;\n",
       "    }\n",
       "</style>\n",
       "<table border=\"1\" class=\"dataframe\">\n",
       "  <thead>\n",
       "    <tr style=\"text-align: right;\">\n",
       "      <th></th>\n",
       "      <th>year</th>\n",
       "      <th>bill_id</th>\n",
       "      <th>link</th>\n",
       "      <th>raw_text</th>\n",
       "    </tr>\n",
       "  </thead>\n",
       "  <tbody>\n",
       "    <tr>\n",
       "      <th>2075</th>\n",
       "      <td>2017</td>\n",
       "      <td>0AB2076</td>\n",
       "      <td>http://leginfo.legislature.ca.gov/faces/billNa...</td>\n",
       "      <td>skip to content    home  accessibilit...</td>\n",
       "    </tr>\n",
       "    <tr>\n",
       "      <th>2100</th>\n",
       "      <td>2017</td>\n",
       "      <td>0AB2101</td>\n",
       "      <td>http://leginfo.legislature.ca.gov/faces/billNa...</td>\n",
       "      <td>skip to content    home  accessibilit...</td>\n",
       "    </tr>\n",
       "    <tr>\n",
       "      <th>7619</th>\n",
       "      <td>2019</td>\n",
       "      <td>0AJR15</td>\n",
       "      <td>http://leginfo.legislature.ca.gov/faces/billNa...</td>\n",
       "      <td>skip to content    home  accessibilit...</td>\n",
       "    </tr>\n",
       "    <tr>\n",
       "      <th>8475</th>\n",
       "      <td>2019</td>\n",
       "      <td>0SB780</td>\n",
       "      <td>http://leginfo.legislature.ca.gov/faces/billNa...</td>\n",
       "      <td>skip to content    home  accessibilit...</td>\n",
       "    </tr>\n",
       "    <tr>\n",
       "      <th>5004</th>\n",
       "      <td>2017</td>\n",
       "      <td>0SB1248</td>\n",
       "      <td>http://leginfo.legislature.ca.gov/faces/billNa...</td>\n",
       "      <td>skip to content    home  accessibilit...</td>\n",
       "    </tr>\n",
       "    <tr>\n",
       "      <th>1445</th>\n",
       "      <td>2017</td>\n",
       "      <td>0AB1446</td>\n",
       "      <td>http://leginfo.legislature.ca.gov/faces/billNa...</td>\n",
       "      <td>skip to content    home  accessibilit...</td>\n",
       "    </tr>\n",
       "    <tr>\n",
       "      <th>2109</th>\n",
       "      <td>2017</td>\n",
       "      <td>0AB2110</td>\n",
       "      <td>http://leginfo.legislature.ca.gov/faces/billNa...</td>\n",
       "      <td>skip to content    home  accessibilit...</td>\n",
       "    </tr>\n",
       "    <tr>\n",
       "      <th>1706</th>\n",
       "      <td>2017</td>\n",
       "      <td>0AB1707</td>\n",
       "      <td>http://leginfo.legislature.ca.gov/faces/billNa...</td>\n",
       "      <td>skip to content    home  accessibilit...</td>\n",
       "    </tr>\n",
       "    <tr>\n",
       "      <th>576</th>\n",
       "      <td>2017</td>\n",
       "      <td>0AB577</td>\n",
       "      <td>http://leginfo.legislature.ca.gov/faces/billNa...</td>\n",
       "      <td>skip to content    home  accessibilit...</td>\n",
       "    </tr>\n",
       "    <tr>\n",
       "      <th>2571</th>\n",
       "      <td>2017</td>\n",
       "      <td>0AB2572</td>\n",
       "      <td>http://leginfo.legislature.ca.gov/faces/billNa...</td>\n",
       "      <td>skip to content    home  accessibilit...</td>\n",
       "    </tr>\n",
       "  </tbody>\n",
       "</table>\n",
       "</div>"
      ],
      "text/plain": [
       "      year  bill_id                                               link  \\\n",
       "2075  2017  0AB2076  http://leginfo.legislature.ca.gov/faces/billNa...   \n",
       "2100  2017  0AB2101  http://leginfo.legislature.ca.gov/faces/billNa...   \n",
       "7619  2019   0AJR15  http://leginfo.legislature.ca.gov/faces/billNa...   \n",
       "8475  2019   0SB780  http://leginfo.legislature.ca.gov/faces/billNa...   \n",
       "5004  2017  0SB1248  http://leginfo.legislature.ca.gov/faces/billNa...   \n",
       "1445  2017  0AB1446  http://leginfo.legislature.ca.gov/faces/billNa...   \n",
       "2109  2017  0AB2110  http://leginfo.legislature.ca.gov/faces/billNa...   \n",
       "1706  2017  0AB1707  http://leginfo.legislature.ca.gov/faces/billNa...   \n",
       "576   2017   0AB577  http://leginfo.legislature.ca.gov/faces/billNa...   \n",
       "2571  2017  0AB2572  http://leginfo.legislature.ca.gov/faces/billNa...   \n",
       "\n",
       "                                               raw_text  \n",
       "2075           skip to content    home  accessibilit...  \n",
       "2100           skip to content    home  accessibilit...  \n",
       "7619           skip to content    home  accessibilit...  \n",
       "8475           skip to content    home  accessibilit...  \n",
       "5004           skip to content    home  accessibilit...  \n",
       "1445           skip to content    home  accessibilit...  \n",
       "2109           skip to content    home  accessibilit...  \n",
       "1706           skip to content    home  accessibilit...  \n",
       "576            skip to content    home  accessibilit...  \n",
       "2571           skip to content    home  accessibilit...  "
      ]
     },
     "execution_count": 106,
     "metadata": {},
     "output_type": "execute_result"
    }
   ],
   "source": [
    "ca_demo"
   ]
  },
  {
   "cell_type": "code",
   "execution_count": 105,
   "metadata": {},
   "outputs": [
    {
     "data": {
      "text/plain": [
       "\"         skip to content    home  accessibility  FAQ  feedback  sitemap   login   x                   Quick Search:    Bill Number  Bill Keyword             Home   Bill Information   California Law   Publications   Other Resources   My Subscriptions   My Favorites                  Bill Information >>  Bill Search >>  Text        Bill Text Bill Information         PDF2  PDF    | Add To My Favorites | Version:  07/16/18 - Chaptered  07/05/18 - Enrolled  02/27/18 - Amended Assembly  02/07/18 - Introduced         AB-2076 County employees’ retirement: disability: date of retirement. (2017-2018)      Text   >>   Votes   >>   History  >>   Bill Analysis  >>   Today's Law As Amended  >>    Compare Versions  >>   Status  >>   Comments To Author   >>   Add To My Favorites  >>            SHARE THIS:    Date Published: 07/16/2018 09:00 PM   Bill Start Assembly Bill\\n              \\n                        No. 2076 CHAPTER 97 An act to add Section 31541.1 to the Government Code, relating to county employees’ retirement. [ Approved  by Governor  July\\xa016,\\xa02018. Filed with Secretary of State  July\\xa016,\\xa02018. ] LEGISLATIVE COUNSEL'S DIGEST AB 2076, Rodriguez.\\n                          County employees’ retirement: disability: date of retirement. The County Employees Retirement Law of 1937 provides a comprehensive set of benefits for county and district employees who are members of a retirement system subject to that law and establishes county retirement boards for the administration of benefits authorized under that law. That law authorizes a county retirement system in Los Angeles County to adjust retirement payments due to errors or omissions, as specified. That law also permits a member permanently incapacitated for duty to retire for disability only if specified criteria are met and requires the board to determine the effective date of retirement in those cases, as specified. This bill would authorize a county retirement system in Los Angeles County to correct a prior board decision determining the effective date of retirement for a member permanently incapacitated for disability that\\n\\t\\twas made between January 1, 2013, and December 31, 2015, and was based upon an error of law existing at the time of the decision, as specified. The bill would authorize a member seeking correction under these provisions to file an application with the board no later than one year from the date these provisions become operative. Digest Key Vote: MAJORITY  Appropriation: NO  Fiscal Committee: NO  Local Program: NO  Bill Text The people of the State of California do enact as follows: SECTION 1. Section 31541.1 is added to the Government Code, to read: 31541.1. (a)\\xa0Subject to subdivisions (c), (d), and (e) of Section 31541, the board, upon any terms it deems just, may correct prior board decisions made between January 1, 2013, and December 31, 2015, that were based upon an error of law existing at the time of the decision in the determination of the effective date of disability retirement pursuant to Section 31724. A member seeking correction of errors and omissions pursuant to this section may file an application for correction to the board no later than one year from the date this section becomes operative. (b)\\xa0This section shall apply to a county of the first class as described in Section 28020 and 28022.    \""
      ]
     },
     "execution_count": 105,
     "metadata": {},
     "output_type": "execute_result"
    }
   ],
   "source": [
    "ca_demo.iloc[0]['raw_text']"
   ]
  },
  {
   "cell_type": "markdown",
   "metadata": {},
   "source": [
    "## 5. New York Scraper"
   ]
  },
  {
   "cell_type": "code",
   "execution_count": 144,
   "metadata": {},
   "outputs": [],
   "source": [
    "# Get ny Links\n",
    "\n",
    "def get_ny_links(start_year, end_year):\n",
    "    \"\"\"\n",
    "    Gets links to full text data of bills from ny bill site. \n",
    "\n",
    "    Parameters\n",
    "    ----------\n",
    "    start_year : int\n",
    "        start year of ny bill session\n",
    "\n",
    "    end_year: int\n",
    "        end year of ny bill session \n",
    "\n",
    "    Returns\n",
    "    -------\n",
    "    dataframe of links with associated year\n",
    "    \n",
    "    \"\"\"\n",
    "    base_link = \"https://nyassembly.gov/leg/\"\n",
    "    dfs = []\n",
    "\n",
    "    for year in range(start_year, end_year):\n",
    "        r = requests.post('https://nyassembly.gov/leg/?sh=advanced', \n",
    "                          data=dict(evt_fld='Search',\n",
    "                                    by='a',\n",
    "                                    term=str(year),\n",
    "                                    leg_type='B',\n",
    "                                    comm_status='C',\n",
    "                                    bill_status='L'))\n",
    "        soup = BeautifulSoup(r.text, features=\"html\")\n",
    "        bills = soup.find_all('a', {'href': re.compile(r'&term=')})\n",
    "        for bill in bills:\n",
    "            dfs.append([year, \n",
    "                        bill['href'].split(\"?bn=\")[1].split(\"&term\")[0],\n",
    "                        base_link + bill['href'] + \"&Text=Y\"])\n",
    "    df = pd.DataFrame(dfs)\n",
    "    df.columns = ['year', 'bill_id', 'link']\n",
    "    return df"
   ]
  },
  {
   "cell_type": "code",
   "execution_count": 118,
   "metadata": {},
   "outputs": [],
   "source": [
    "ny_test = get_ny_links(2015, 2020)"
   ]
  },
  {
   "cell_type": "code",
   "execution_count": 120,
   "metadata": {},
   "outputs": [],
   "source": [
    "# CA takes a long time to hit raw text, many links and may block. I suggest introducing a sleep\n",
    "# in the loop if you intend to extract lots of raw text\n",
    "ny_demo = ny_test.sample(10)\n",
    "ny_demo['raw_text'] = ny_demo['link'].apply(lambda x: get_raw_text(x))"
   ]
  },
  {
   "cell_type": "code",
   "execution_count": 121,
   "metadata": {},
   "outputs": [
    {
     "data": {
      "text/html": [
       "<div>\n",
       "<style scoped>\n",
       "    .dataframe tbody tr th:only-of-type {\n",
       "        vertical-align: middle;\n",
       "    }\n",
       "\n",
       "    .dataframe tbody tr th {\n",
       "        vertical-align: top;\n",
       "    }\n",
       "\n",
       "    .dataframe thead th {\n",
       "        text-align: right;\n",
       "    }\n",
       "</style>\n",
       "<table border=\"1\" class=\"dataframe\">\n",
       "  <thead>\n",
       "    <tr style=\"text-align: right;\">\n",
       "      <th></th>\n",
       "      <th>year</th>\n",
       "      <th>bill_id</th>\n",
       "      <th>link</th>\n",
       "      <th>raw_text</th>\n",
       "    </tr>\n",
       "  </thead>\n",
       "  <tbody>\n",
       "    <tr>\n",
       "      <th>836</th>\n",
       "      <td>2015</td>\n",
       "      <td>A09349</td>\n",
       "      <td>https://nyassembly.gov/leg/?bn=A09349&amp;term=201...</td>\n",
       "      <td>New York State  Assembly  ...</td>\n",
       "    </tr>\n",
       "    <tr>\n",
       "      <th>3906</th>\n",
       "      <td>2017</td>\n",
       "      <td>S07292</td>\n",
       "      <td>https://nyassembly.gov/leg/?bn=S07292&amp;term=201...</td>\n",
       "      <td>New York State  Assembly  ...</td>\n",
       "    </tr>\n",
       "    <tr>\n",
       "      <th>3372</th>\n",
       "      <td>2017</td>\n",
       "      <td>S02495</td>\n",
       "      <td>https://nyassembly.gov/leg/?bn=S02495&amp;term=201...</td>\n",
       "      <td>New York State  Assembly  ...</td>\n",
       "    </tr>\n",
       "    <tr>\n",
       "      <th>1760</th>\n",
       "      <td>2015</td>\n",
       "      <td>S05892</td>\n",
       "      <td>https://nyassembly.gov/leg/?bn=S05892&amp;term=201...</td>\n",
       "      <td>New York State  Assembly  ...</td>\n",
       "    </tr>\n",
       "    <tr>\n",
       "      <th>259</th>\n",
       "      <td>2015</td>\n",
       "      <td>A05816</td>\n",
       "      <td>https://nyassembly.gov/leg/?bn=A05816&amp;term=201...</td>\n",
       "      <td>New York State  Assembly  ...</td>\n",
       "    </tr>\n",
       "    <tr>\n",
       "      <th>4400</th>\n",
       "      <td>2019</td>\n",
       "      <td>A05269</td>\n",
       "      <td>https://nyassembly.gov/leg/?bn=A05269&amp;term=201...</td>\n",
       "      <td>New York State  Assembly  ...</td>\n",
       "    </tr>\n",
       "    <tr>\n",
       "      <th>3960</th>\n",
       "      <td>2017</td>\n",
       "      <td>S07418</td>\n",
       "      <td>https://nyassembly.gov/leg/?bn=S07418&amp;term=201...</td>\n",
       "      <td>New York State  Assembly  ...</td>\n",
       "    </tr>\n",
       "    <tr>\n",
       "      <th>1186</th>\n",
       "      <td>2015</td>\n",
       "      <td>S01697</td>\n",
       "      <td>https://nyassembly.gov/leg/?bn=S01697&amp;term=201...</td>\n",
       "      <td>New York State  Assembly  ...</td>\n",
       "    </tr>\n",
       "    <tr>\n",
       "      <th>3682</th>\n",
       "      <td>2017</td>\n",
       "      <td>S05943</td>\n",
       "      <td>https://nyassembly.gov/leg/?bn=S05943&amp;term=201...</td>\n",
       "      <td>New York State  Assembly  ...</td>\n",
       "    </tr>\n",
       "    <tr>\n",
       "      <th>2519</th>\n",
       "      <td>2017</td>\n",
       "      <td>A06801</td>\n",
       "      <td>https://nyassembly.gov/leg/?bn=A06801&amp;term=201...</td>\n",
       "      <td>New York State  Assembly  ...</td>\n",
       "    </tr>\n",
       "  </tbody>\n",
       "</table>\n",
       "</div>"
      ],
      "text/plain": [
       "      year bill_id                                               link  \\\n",
       "836   2015  A09349  https://nyassembly.gov/leg/?bn=A09349&term=201...   \n",
       "3906  2017  S07292  https://nyassembly.gov/leg/?bn=S07292&term=201...   \n",
       "3372  2017  S02495  https://nyassembly.gov/leg/?bn=S02495&term=201...   \n",
       "1760  2015  S05892  https://nyassembly.gov/leg/?bn=S05892&term=201...   \n",
       "259   2015  A05816  https://nyassembly.gov/leg/?bn=A05816&term=201...   \n",
       "4400  2019  A05269  https://nyassembly.gov/leg/?bn=A05269&term=201...   \n",
       "3960  2017  S07418  https://nyassembly.gov/leg/?bn=S07418&term=201...   \n",
       "1186  2015  S01697  https://nyassembly.gov/leg/?bn=S01697&term=201...   \n",
       "3682  2017  S05943  https://nyassembly.gov/leg/?bn=S05943&term=201...   \n",
       "2519  2017  A06801  https://nyassembly.gov/leg/?bn=A06801&term=201...   \n",
       "\n",
       "                                               raw_text  \n",
       "836                       New York State  Assembly  ...  \n",
       "3906                      New York State  Assembly  ...  \n",
       "3372                      New York State  Assembly  ...  \n",
       "1760                      New York State  Assembly  ...  \n",
       "259                       New York State  Assembly  ...  \n",
       "4400                      New York State  Assembly  ...  \n",
       "3960                      New York State  Assembly  ...  \n",
       "1186                      New York State  Assembly  ...  \n",
       "3682                      New York State  Assembly  ...  \n",
       "2519                      New York State  Assembly  ...  "
      ]
     },
     "execution_count": 121,
     "metadata": {},
     "output_type": "execute_result"
    }
   ],
   "source": [
    "ny_demo"
   ]
  },
  {
   "cell_type": "code",
   "execution_count": 124,
   "metadata": {},
   "outputs": [
    {
     "data": {
      "text/plain": [
       "\"                    New York State  Assembly  Speaker Carl E. Heastie               WATCH LIVE         Assembly Members  Bill Search & Legislative Info  Standing Committee Public Hearing Calendar  Speaker's Press Releases  Assembly Reports  Committees, Commissions & Task Forces                 Javascript must be enabled to properly view this page.     Bill Search Home Laws  Legislative Calendar Public Hearing Schedule Assembly Calendars Assembly Committee Agenda          Bill No.:       Summary   Actions  Committee&nbspVotes  Floor&nbspVotes  Memo   Text   A09349 Summary: BILL NO A09349  SAME AS SAME AS UNI. S06819   SPONSOR Santabarbara  COSPNSR Steck  MLTSPNSR   Relates to eligibility for real property tax credit for payments in lieu of taxes made by a Qualified Empire Zone Enterprise for property located at 560 Broadway, Schenectady, New York. Go to top A09349 Text:     STATE OF NEW YORK ________________________________________________________________________\\n \\n            S. 6819                                                  A. 9349 SENATE - ASSEMBLY February 25, 2016\\n                                       ___________\\n \\n        IN  SENATE -- Introduced by Sen. FARLEY -- read twice and ordered print-\\n          ed, and when printed to be committed to the Committee on Local Govern-\\n          ment\\n \\n        IN ASSEMBLY -- Introduced by M. of A.  SANTABARBARA  --  read  once  and\\n          referred to the Committee on Real Property Taxation\\n \\n        AN ACT relating to a certain agreement for a payment in lieu of taxes The  People of the State of New York, represented in Senate and Assem-  bly, do enact as follows: 1    Section 1.  Notwithstanding  the  provisions  of  subdivision  (e)  of\\n     2  section 15 of the tax law, any payment in lieu of taxes made by a quali-\\n     3  fied  empire zone enterprise to the state, a municipal corporation, or a\\n     4  public benefit corporation pursuant to its lease agreement for  property\\n     5  located at 560 Broadway, Schenectady, New York with a landlord that is a\\n     6  party  to  a payment in lieu of taxes agreement between the landlord and\\n     7  the state, municipal corporation, or public benefit corporation shall be\\n     8  deemed, for the purposes of subdivision (e) of section  15  of  the  tax\\n     9  law,  to have been made pursuant to a payment in lieu of taxes agreement\\n    10  with the state, municipal corporation, or  public  benefit  corporation.\\n    11  Such  qualified  empire  zone  enterprise shall be eligible to claim the\\n    12  real property tax credit provided by section 15 of the tax law  provided\\n    13  that  for  each  of such periods, the landlord has not filed a claim for\\n    14  the real property tax credit for such payments nor  made  a  payment  in\\n    15  lieu  of  taxes  to  the state, municipal corporation, or public benefit\\n    16  corporation pursuant to its agreement with the state,  municipal  corpo-\\n    17  ration, or public benefit corporation for such payments. Notwithstanding\\n    18  any  section of law to the contrary, such credit shall be based upon the\\n    19  payments in lieu of taxes and employment of the tenant.\\n    20    § 2. This act shall take effect immediately and shall  only  apply  to\\n    21  taxable  years  beginning  on and after January 1, 2012 and ending on or\\n    22  before January 1, 2016.\\n \\n\\n         EXPLANATION--Matter in italics (underscored) is new; matter in brackets\\n                              [  ] is old law to be omitted.\\n                                                                   LBD14018-01-6  Go to top    Request Information    Contact Webmaster    Directions and Maps    Page display time = 0.2327 sec\""
      ]
     },
     "execution_count": 124,
     "metadata": {},
     "output_type": "execute_result"
    }
   ],
   "source": [
    "ny_demo.iloc[0]['raw_text']"
   ]
  },
  {
   "cell_type": "code",
   "execution_count": null,
   "metadata": {},
   "outputs": [],
   "source": []
  }
 ],
 "metadata": {
  "kernelspec": {
   "display_name": "Python nlp",
   "language": "python",
   "name": "nlp"
  },
  "language_info": {
   "codemirror_mode": {
    "name": "ipython",
    "version": 3
   },
   "file_extension": ".py",
   "mimetype": "text/x-python",
   "name": "python",
   "nbconvert_exporter": "python",
   "pygments_lexer": "ipython3",
   "version": "3.7.3"
  }
 },
 "nbformat": 4,
 "nbformat_minor": 2
}
